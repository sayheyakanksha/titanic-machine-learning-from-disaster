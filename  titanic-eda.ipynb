{
 "cells": [
  {
   "cell_type": "markdown",
   "metadata": {},
   "source": [
    "# Titanic: Exploratory Data Analysis (EDA)\n",
    "In this project, I will be performing exploratory data analysis (EDA) on a titanic shipwreck and passenger survival data. You can find the dataset files I have used in the `Datasets` folder of this project repository.\n",
    "\n",
    "### Source\n",
    "`Titanic - Machine Learning from Disaster`  \n",
    "[https://www.kaggle.com/competitions/titanic](https://www.kaggle.com/competitions/titanic)  \n",
    "Kaggle  "
   ]
  },
  {
   "cell_type": "code",
   "execution_count": null,
   "metadata": {},
   "outputs": [],
   "source": []
  }
 ],
 "metadata": {
  "kernelspec": {
   "display_name": "titanic",
   "language": "python",
   "name": "python3"
  },
  "language_info": {
   "codemirror_mode": {
    "name": "ipython",
    "version": 3
   },
   "file_extension": ".py",
   "mimetype": "text/x-python",
   "name": "python",
   "nbconvert_exporter": "python",
   "pygments_lexer": "ipython3",
   "version": "3.11.11"
  }
 },
 "nbformat": 4,
 "nbformat_minor": 2
}
